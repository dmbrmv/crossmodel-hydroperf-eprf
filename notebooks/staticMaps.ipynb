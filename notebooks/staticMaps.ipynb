{
 "cells": [
  {
   "cell_type": "code",
   "execution_count": 1,
   "id": "cc142b88",
   "metadata": {},
   "outputs": [
    {
     "data": {
      "text/plain": [
       "(2323203.209506912, 7437681.476252508, 4589519.30641518, 4674913.235357148)"
      ]
     },
     "execution_count": 1,
     "metadata": {},
     "output_type": "execute_result"
    }
   ],
   "source": [
    "import asyncio\n",
    "from collections import defaultdict\n",
    "from concurrent.futures import ThreadPoolExecutor, as_completed\n",
    "from pathlib import Path\n",
    "\n",
    "import fsspec\n",
    "from osgeo import gdal\n",
    "from pyproj import CRS, Transformer\n",
    "from tqdm.notebook import tqdm\n",
    "\n",
    "gdal.UseExceptions()\n",
    "res_folder = \"../data/SpatialData/SoilGrids/\"\n",
    "Path(res_folder).mkdir(parents=True, exist_ok=True)\n",
    "# ----------------------------------------------------------------------\n",
    "# SoilGrids 250 m v2.0 native CRS = Goode Interrupted Homolosine\n",
    "SOILGRIDS_CRS = CRS.from_proj4(\n",
    "    \"+proj=igh +lon_0=0 +datum=WGS84 +units=m +no_defs\"\n",
    ")  # equivalent to EPSG:152160 but portable\n",
    "\n",
    "WGS84 = CRS.from_epsg(4326)\n",
    "TRANS = Transformer.from_crs(WGS84, SOILGRIDS_CRS, always_xy=True)\n",
    "# ----------------------------------------------------------------------\n",
    "\n",
    "\n",
    "def bbox_lonlat_to_homolosine(\n",
    "    north: float, west: float, south: float, east: float, *, for_gdal_projwin: bool = True\n",
    ") -> tuple[float, float, float, float]:\n",
    "    \"\"\"\n",
    "    Convert [N, W, S, E] geographic degrees to SoilGrids Homolosine metres.\n",
    "\n",
    "    Returns (min_x, max_y, max_x, min_y) if *for_gdal_projwin*,\n",
    "    otherwise (min_x, min_y, max_x, max_y).\n",
    "\n",
    "    Raises\n",
    "    ------\n",
    "    ValueError – if the AOI crosses a Homolosine lobe (rare; split AOI yourself)\n",
    "    \"\"\"\n",
    "    # Transform the two diagonal corners\n",
    "    x_ul, y_ul = TRANS.transform(west, north)  # upper-left\n",
    "    x_lr, y_lr = TRANS.transform(east, south)  # lower-right\n",
    "\n",
    "    # If the AOI straddles an interruption the x-ordering flips → width<0\n",
    "    if x_lr < x_ul:\n",
    "        raise ValueError(\"AOI crosses an interrupted lobe – split it in two.\")\n",
    "\n",
    "    min_x, max_x = x_ul, x_lr\n",
    "    max_y, min_y = y_ul, y_lr\n",
    "\n",
    "    if for_gdal_projwin:  # GDAL's -projwin (ulx uly lrx lry)\n",
    "        return min_x, max_y, max_x, min_y\n",
    "    else:  # GDAL's -te  (minx miny maxx maxy)\n",
    "        return min_x, min_y, max_x, max_y\n",
    "\n",
    "\n",
    "# Example AOI in lat/lon\n",
    "aoi = (70.0, 10.0, 42.0, 45.0)\n",
    "bb = bbox_lonlat_to_homolosine(*aoi)\n",
    "bb"
   ]
  },
  {
   "cell_type": "code",
   "execution_count": 2,
   "id": "c57bc8a1",
   "metadata": {},
   "outputs": [],
   "source": [
    "BASE = \"https://files.isric.org/soilgrids/latest/data\"\n",
    "fs = fsspec.filesystem(\"https\")  # anonymous HTTPS\n",
    "\n",
    "# ---------- what to keep / change -------------------------------------------\n",
    "ALLOWED_PROPERTIES = {\n",
    "    \"bdod\",  # Bulk density (kg/m3)\n",
    "    \"cec\",  # Cation exchange capacity (cmol/kg)\n",
    "    \"cfvo\",  # Coarse fragments volume (%)\n",
    "    \"clay\",  # Clay content (%)\n",
    "    \"nitrogen\",  # Total nitrogen content (g/kg)\n",
    "    \"ocd\",  # Organic carbon density (kg/m2)\n",
    "    \"ocs\",  # Organic carbon stock (ton/ha)\n",
    "    \"phh2o\",  # pH in H2O\n",
    "    \"sand\",  # Sand content (%)\n",
    "    \"silt\",  # Silt content (%)\n",
    "    \"soc\",  # Soil organic carbon content (g/kg)\n",
    "}\n",
    "ALLOWED_DEPTHS = None  # e.g. {\"0-5cm\", \"5-15cm\", \"15-30cm\", \"30-60cm\", \"60-100cm\", \"100-200cm\"}\n",
    "ALLOWED_STATS = {\"mean\"}  # e.g. {\n",
    "#     \"mean\",       # point prediction (expected value)\n",
    "#     \"Q0.05\",      # lower 5 % conditional quantile\n",
    "#     \"Q0.5\",       # median (50 % quantile)\n",
    "#     \"Q0.95\",      # upper 95 % conditional quantile\n",
    "#     \"uncertainty\" # model-based prediction interval width\n",
    "# }\n",
    "\n",
    "coverages: dict[str, list[str]] = defaultdict(list)  # result container\n",
    "\n",
    "for prop_url in fs.ls(BASE, detail=False):\n",
    "    prop = prop_url.rstrip(\"/\").split(\"/\")[-1]\n",
    "\n",
    "    # skip categorical layers and not-wanted properties early\n",
    "    if prop in {\"landmask\", \"wrb\"} or (ALLOWED_PROPERTIES and prop not in ALLOWED_PROPERTIES):\n",
    "        continue\n",
    "\n",
    "    for fn in fs.ls(prop_url, detail=False):\n",
    "        if not fn.endswith(\".vrt\"):\n",
    "            continue\n",
    "\n",
    "        name = fn.split(\"/\")[-1].removesuffix(\".vrt\")\n",
    "        prop_, depth_, stat_ = name.split(\"_\", 2)\n",
    "\n",
    "        if (ALLOWED_DEPTHS is None or depth_ in ALLOWED_DEPTHS) and (\n",
    "            ALLOWED_STATS is None or stat_ in ALLOWED_STATS\n",
    "        ):\n",
    "            coverages[prop_].append(name)"
   ]
  },
  {
   "cell_type": "code",
   "execution_count": 3,
   "id": "ad40a2c1",
   "metadata": {},
   "outputs": [
    {
     "data": {
      "application/vnd.jupyter.widget-view+json": {
       "model_id": "2d63c26ef35c414f8ee9f246f8d60a92",
       "version_major": 2,
       "version_minor": 0
      },
      "text/plain": [
       "Processing bdod:   0%|          | 0/6 [00:00<?, ?layer/s]"
      ]
     },
     "metadata": {},
     "output_type": "display_data"
    },
    {
     "data": {
      "application/vnd.jupyter.widget-view+json": {
       "model_id": "83fad92966034d11947dfe2d54435fc3",
       "version_major": 2,
       "version_minor": 0
      },
      "text/plain": [
       "Processing cec:   0%|          | 0/6 [00:00<?, ?layer/s]"
      ]
     },
     "metadata": {},
     "output_type": "display_data"
    },
    {
     "data": {
      "application/vnd.jupyter.widget-view+json": {
       "model_id": "e03d78cc7bd24619a335db5fd92b53ff",
       "version_major": 2,
       "version_minor": 0
      },
      "text/plain": [
       "Processing cfvo:   0%|          | 0/6 [00:00<?, ?layer/s]"
      ]
     },
     "metadata": {},
     "output_type": "display_data"
    },
    {
     "name": "stderr",
     "output_type": "stream",
     "text": [
      "Warning 1: HTTP response code on https://files.isric.org/soilgrids/latest/data/cfvo/./cfvo_15-30cm_mean/tileSG-004-052/tileSG-004-052_2-3.AUX: 0\n"
     ]
    },
    {
     "data": {
      "application/vnd.jupyter.widget-view+json": {
       "model_id": "171e5d6554874ccc8517301726e19efe",
       "version_major": 2,
       "version_minor": 0
      },
      "text/plain": [
       "Processing clay:   0%|          | 0/6 [00:00<?, ?layer/s]"
      ]
     },
     "metadata": {},
     "output_type": "display_data"
    },
    {
     "name": "stderr",
     "output_type": "stream",
     "text": [
      "Warning 1: HTTP response code on https://files.isric.org/soilgrids/latest/data/clay/./clay_60-100cm_mean/tileSG-003-050/tileSG-003-050_1-3.AUX: 0\n"
     ]
    },
    {
     "data": {
      "application/vnd.jupyter.widget-view+json": {
       "model_id": "d8b5f4fa8c2047c4afb1953dbf90fd2b",
       "version_major": 2,
       "version_minor": 0
      },
      "text/plain": [
       "Processing nitrogen:   0%|          | 0/6 [00:00<?, ?layer/s]"
      ]
     },
     "metadata": {},
     "output_type": "display_data"
    },
    {
     "name": "stderr",
     "output_type": "stream",
     "text": [
      "Warning 1: HTTP response code on https://files.isric.org/soilgrids/latest/data/nitrogen/./nitrogen_60-100cm_mean/tileSG-006-054/tileSG-006-054_3-3.aux: 0\n"
     ]
    },
    {
     "data": {
      "application/vnd.jupyter.widget-view+json": {
       "model_id": "dd1f7a3559894db2b327a7d1c7292def",
       "version_major": 2,
       "version_minor": 0
      },
      "text/plain": [
       "Processing ocd:   0%|          | 0/6 [00:00<?, ?layer/s]"
      ]
     },
     "metadata": {},
     "output_type": "display_data"
    },
    {
     "name": "stderr",
     "output_type": "stream",
     "text": [
      "Warning 1: HTTP response code on https://files.isric.org/soilgrids/latest/data/ocd/./ocd_30-60cm_mean/tileSG-003-054/tileSG-003-054_3-3.xml: 0\n"
     ]
    },
    {
     "data": {
      "application/vnd.jupyter.widget-view+json": {
       "model_id": "19ab5074108f47048cf52a956ae4976d",
       "version_major": 2,
       "version_minor": 0
      },
      "text/plain": [
       "Processing ocs:   0%|          | 0/1 [00:00<?, ?layer/s]"
      ]
     },
     "metadata": {},
     "output_type": "display_data"
    },
    {
     "data": {
      "application/vnd.jupyter.widget-view+json": {
       "model_id": "e9a659b61a3c44469cced0588b33a710",
       "version_major": 2,
       "version_minor": 0
      },
      "text/plain": [
       "Processing phh2o:   0%|          | 0/6 [00:00<?, ?layer/s]"
      ]
     },
     "metadata": {},
     "output_type": "display_data"
    },
    {
     "name": "stderr",
     "output_type": "stream",
     "text": [
      "Warning 1: HTTP response code on https://files.isric.org/soilgrids/latest/data/phh2o/./phh2o_15-30cm_mean/tileSG-006-051/tileSG-006-051_3-3.AUX: 0\n"
     ]
    },
    {
     "data": {
      "application/vnd.jupyter.widget-view+json": {
       "model_id": "e8493f0efebb4103bc38951b0c839598",
       "version_major": 2,
       "version_minor": 0
      },
      "text/plain": [
       "Processing sand:   0%|          | 0/6 [00:00<?, ?layer/s]"
      ]
     },
     "metadata": {},
     "output_type": "display_data"
    },
    {
     "name": "stderr",
     "output_type": "stream",
     "text": [
      "Warning 1: HTTP response code on https://files.isric.org/soilgrids/latest/data/sand/./sand_5-15cm_mean/tileSG-003-052/tileSG-003-052_1-1.tif.AUX: 0\n",
      "Warning 1: HTTP response code on https://files.isric.org/soilgrids/latest/data/sand/./sand_15-30cm_mean/tileSG-005-051/tileSG-005-051_3-2.aux: 0\n"
     ]
    },
    {
     "data": {
      "application/vnd.jupyter.widget-view+json": {
       "model_id": "c26052651f174887b5e295f75dbd5775",
       "version_major": 2,
       "version_minor": 0
      },
      "text/plain": [
       "Processing silt:   0%|          | 0/6 [00:00<?, ?layer/s]"
      ]
     },
     "metadata": {},
     "output_type": "display_data"
    },
    {
     "name": "stderr",
     "output_type": "stream",
     "text": [
      "Warning 1: HTTP response code on https://files.isric.org/soilgrids/latest/data/silt/./silt_60-100cm_mean/tileSG-003-049/tileSG-003-049_1-4.xml: 0\n",
      "Warning 1: HTTP response code on https://files.isric.org/soilgrids/latest/data/silt/./silt_5-15cm_mean/tileSG-006-050/tileSG-006-050_4-3.XML: 0\n"
     ]
    },
    {
     "data": {
      "application/vnd.jupyter.widget-view+json": {
       "model_id": "bce636670b4647dcb732830725995dd1",
       "version_major": 2,
       "version_minor": 0
      },
      "text/plain": [
       "Processing soc:   0%|          | 0/6 [00:00<?, ?layer/s]"
      ]
     },
     "metadata": {},
     "output_type": "display_data"
    },
    {
     "name": "stderr",
     "output_type": "stream",
     "text": [
      "Warning 1: HTTP response code on https://files.isric.org/soilgrids/latest/data/soc/./soc_30-60cm_mean/tileSG-005-051/tileSG-005-051_2-3.XML: 0\n",
      "Warning 1: HTTP response code on https://files.isric.org/soilgrids/latest/data/soc/./soc_0-5cm_mean/tileSG-005-050/tileSG-005-050_4-2.aux: 0\n",
      "Warning 1: HTTP response code on https://files.isric.org/soilgrids/latest/data/soc/./soc_15-30cm_mean/tileSG-006-052/tileSG-006-052_1-3.tif.aux: 0\n",
      "Warning 1: HTTP response code on https://files.isric.org/soilgrids/latest/data/soc/./soc_5-15cm_mean/tileSG-007-051/tileSG-007-051_4-1.aux: 0\n"
     ]
    }
   ],
   "source": [
    "IGH = \"+proj=igh +lat_0=0 +lon_0=0 +datum=WGS84 +units=m +no_defs\"\n",
    "RES = 250\n",
    "SG_URL = f\"/vsicurl?max_retry=3&retry_delay=1&list_dir=no&url={BASE}\"\n",
    "kwargs = {\n",
    "    \"format\": \"GTiff\",\n",
    "    \"projWin\": bb,\n",
    "    \"projWinSRS\": IGH,\n",
    "    \"xRes\": RES,\n",
    "    \"yRes\": RES,\n",
    "    \"creationOptions\": [\"TILED=YES\", \"COMPRESS=DEFLATE\", \"PREDICTOR=2\", \"BIGTIFF=YES\"],\n",
    "}\n",
    "\n",
    "\n",
    "def process_layer(var: str, layer: str, var_folder: Path, SG_URL: str, kwargs: dict) -> None:\n",
    "    \"\"\"\n",
    "    Download and reproject a single SoilGrids layer.\n",
    "\n",
    "    Args:\n",
    "        var (str): Soil property name.\n",
    "        layer (str): Layer identifier.\n",
    "        var_folder (Path): Output directory for the variable.\n",
    "        SG_URL (str): Base SoilGrids URL.\n",
    "        kwargs (dict): GDAL translate options.\n",
    "\n",
    "    Raises:\n",
    "        Exception: If GDAL processing fails.\n",
    "    \"\"\"\n",
    "    try:\n",
    "        out_path = var_folder / f\"{layer}.tif\"\n",
    "        ds = gdal.Translate(str(out_path), SG_URL + f\"/{var}/{layer}.vrt\", **kwargs)\n",
    "        del ds  # flush contents\n",
    "        ds = gdal.Warp(str(out_path), str(out_path), dstSRS=\"EPSG:4326\")\n",
    "        del ds\n",
    "    except Exception as e:\n",
    "        print(f\"Error processing {var}/{layer}: {e}\")\n",
    "\n",
    "\n",
    "for var, layers in coverages.items():\n",
    "    var_folder = Path(res_folder) / var\n",
    "    var_folder.mkdir(parents=True, exist_ok=True)\n",
    "\n",
    "    tasks = [(var, layer, var_folder, SG_URL, kwargs) for layer in layers]\n",
    "\n",
    "    with (\n",
    "        ThreadPoolExecutor(max_workers=len(layers)) as executor,\n",
    "        tqdm(total=len(tasks), desc=f\"Processing {var}\", unit=\"layer\") as pbar,\n",
    "    ):\n",
    "        futures = [executor.submit(process_layer, *task) for task in tasks]\n",
    "        for future in as_completed(futures):\n",
    "            exc = future.exception()\n",
    "            if exc:\n",
    "                print(f\"Layer processing failed: {exc}\")\n",
    "            pbar.update(1)\n"
   ]
  },
  {
   "cell_type": "code",
   "execution_count": null,
   "metadata": {},
   "outputs": [],
   "source": []
  },
  {
   "cell_type": "code",
   "execution_count": null,
   "metadata": {},
   "outputs": [],
   "source": []
  },
  {
   "cell_type": "code",
   "execution_count": null,
   "metadata": {},
   "outputs": [],
   "source": []
  },
  {
   "cell_type": "code",
   "execution_count": null,
   "id": "121ac967",
   "metadata": {},
   "outputs": [],
   "source": []
  },
  {
   "cell_type": "code",
   "execution_count": null,
   "id": "14617d81",
   "metadata": {},
   "outputs": [],
   "source": []
  },
  {
   "cell_type": "code",
   "execution_count": null,
   "metadata": {},
   "outputs": [],
   "source": []
  },
  {
   "cell_type": "code",
   "execution_count": null,
   "id": "3d0d95f9",
   "metadata": {},
   "outputs": [],
   "source": []
  },
  {
   "cell_type": "code",
   "execution_count": null,
   "id": "26c69655",
   "metadata": {},
   "outputs": [],
   "source": []
  },
  {
   "cell_type": "code",
   "execution_count": null,
   "id": "bdcca5cf",
   "metadata": {},
   "outputs": [],
   "source": []
  },
  {
   "cell_type": "code",
   "execution_count": null,
   "id": "f289b74a",
   "metadata": {},
   "outputs": [],
   "source": [
    "igh = \"+proj=igh +lat_0=0 +lon_0=0 +datum=WGS84 +units=m +no_defs\"\n",
    "res = 250\n",
    "\n",
    "sg_url = f\"/vsicurl?max_retry=3&retry_delay=1&list_dir=no&url={BASE}\"\n",
    "kwargs = {\n",
    "    \"format\": \"GTiff\",\n",
    "    \"projWin\": bb,\n",
    "    \"projWinSRS\": igh,\n",
    "    \"xRes\": res,\n",
    "    \"yRes\": res,\n",
    "    \"creationOptions\": [\"TILED=YES\", \"COMPRESS=DEFLATE\", \"PREDICTOR=2\", \"BIGTIFF=YES\"],\n",
    "}\n",
    "var_folder = Path(res_folder) / \"ocs\"\n",
    "var_folder.mkdir(parents=True, exist_ok=True)\n",
    "\n",
    "ds = gdal.Translate(f\"{var_folder}/crop_roi_igh_py.tif\", sg_url + \"bdod/bdod_0-5cm_mean.vrt\", **kwargs)\n",
    "del ds  # flush contents\n",
    "ds = gdal.Warp(\n",
    "    f\"{var_folder}/crop_roi_igh_py.tif\", f\"{var_folder}/crop_roi_igh_py.tif\", dstSRS=\"EPSG:4326\"\n",
    ")\n",
    "del ds\n"
   ]
  },
  {
   "cell_type": "code",
   "execution_count": null,
   "id": "33720205",
   "metadata": {},
   "outputs": [],
   "source": [
    "asyncio.run(\n",
    "    download_soilgrids(\n",
    "        properties={\"bdod\"},  # only bulk density\n",
    "        stats={\"mean\"},  # only mean surfaces\n",
    "        mode=\"cog\",  # pull full GeoTIFFs\n",
    "        concurrent=3,  # keep the object store happy\n",
    "        target_dir=\"soilgrids_bdod_mean\",\n",
    "    )\n",
    ")"
   ]
  },
  {
   "cell_type": "code",
   "execution_count": null,
   "id": "88cfaccf",
   "metadata": {},
   "outputs": [
    {
     "data": {
      "text/plain": [
       "['bdod_0-5cm_mean',\n",
       " 'bdod_5-15cm_mean',\n",
       " 'bdod_15-30cm_mean',\n",
       " 'bdod_30-60cm_mean',\n",
       " 'bdod_60-100cm_mean',\n",
       " 'bdod_100-200cm_mean',\n",
       " 'cec_0-5cm_mean',\n",
       " 'cec_5-15cm_mean',\n",
       " 'cec_15-30cm_mean',\n",
       " 'cec_30-60cm_mean',\n",
       " 'cec_60-100cm_mean',\n",
       " 'cec_100-200cm_mean',\n",
       " 'cfvo_0-5cm_mean',\n",
       " 'cfvo_5-15cm_mean',\n",
       " 'cfvo_15-30cm_mean',\n",
       " 'cfvo_30-60cm_mean',\n",
       " 'cfvo_60-100cm_mean',\n",
       " 'cfvo_100-200cm_mean',\n",
       " 'clay_0-5cm_mean',\n",
       " 'clay_5-15cm_mean',\n",
       " 'clay_15-30cm_mean',\n",
       " 'clay_30-60cm_mean',\n",
       " 'clay_60-100cm_mean',\n",
       " 'clay_100-200cm_mean',\n",
       " 'nitrogen_0-5cm_mean',\n",
       " 'nitrogen_5-15cm_mean',\n",
       " 'nitrogen_15-30cm_mean',\n",
       " 'nitrogen_30-60cm_mean',\n",
       " 'nitrogen_60-100cm_mean',\n",
       " 'nitrogen_100-200cm_mean',\n",
       " 'ocd_0-5cm_mean',\n",
       " 'ocd_5-15cm_mean',\n",
       " 'ocd_15-30cm_mean',\n",
       " 'ocd_30-60cm_mean',\n",
       " 'ocd_60-100cm_mean',\n",
       " 'ocd_100-200cm_mean',\n",
       " 'ocs_0-5cm_mean',\n",
       " 'ocs_5-15cm_mean',\n",
       " 'ocs_15-30cm_mean',\n",
       " 'ocs_30-60cm_mean',\n",
       " 'ocs_60-100cm_mean',\n",
       " 'ocs_100-200cm_mean',\n",
       " 'phh2o_0-5cm_mean',\n",
       " 'phh2o_5-15cm_mean',\n",
       " 'phh2o_15-30cm_mean',\n",
       " 'phh2o_30-60cm_mean',\n",
       " 'phh2o_60-100cm_mean',\n",
       " 'phh2o_100-200cm_mean',\n",
       " 'sand_0-5cm_mean',\n",
       " 'sand_5-15cm_mean',\n",
       " 'sand_15-30cm_mean',\n",
       " 'sand_30-60cm_mean',\n",
       " 'sand_60-100cm_mean',\n",
       " 'sand_100-200cm_mean',\n",
       " 'silt_0-5cm_mean',\n",
       " 'silt_5-15cm_mean',\n",
       " 'silt_15-30cm_mean',\n",
       " 'silt_30-60cm_mean',\n",
       " 'silt_60-100cm_mean',\n",
       " 'silt_100-200cm_mean',\n",
       " 'soc_0-5cm_mean',\n",
       " 'soc_5-15cm_mean',\n",
       " 'soc_15-30cm_mean',\n",
       " 'soc_30-60cm_mean',\n",
       " 'soc_60-100cm_mean',\n",
       " 'soc_100-200cm_mean']"
      ]
     },
     "execution_count": 23,
     "metadata": {},
     "output_type": "execute_result"
    }
   ],
   "source": [
    "# Create a SoilGrids instance\n",
    "\"\"\"\n",
    "    layers : list of str\n",
    "        SoilGrids layers to get. Available options are:\n",
    "        ``bdod_*``, ``cec_*``, ``cfvo_*``, ``clay_*``, ``nitrogen_*``, ``ocd_*``,\n",
    "        ``ocs_*``, ``phh2o_*``, ``sand_*``, ``silt_*``, and ``soc_*``\n",
    "        represents depths in cm and can be one of ``5`` (0-5 cm), ``15``\n",
    "        (5-15 cm), ``30`` (15-30 cm), ``60`` (30-60 cm), ``100`` (60-100 cm), or ``200``\n",
    "        (100-200 cm). For example, ``bdod_5`` is the mean bulk density of\n",
    "        the fine earth fraction at 0-5 cm depth, and ``bdod_200`` is the mean bulk\n",
    "        density of the fine earth fraction at 100-200 cm depth.\n",
    "\"\"\"\n",
    "\n",
    "layer_of_interest = [\n",
    "    f\"{fraction}_{depth}_{tag}\"\n",
    "    for fraction in [\n",
    "        \"bdod\",\n",
    "        \"cec\",\n",
    "        \"cfvo\",\n",
    "        \"clay\",\n",
    "        \"nitrogen\",\n",
    "        \"ocd\",\n",
    "        \"ocs\",\n",
    "        \"phh2o\",\n",
    "        \"sand\",\n",
    "        \"silt\",\n",
    "        \"soc\",\n",
    "    ]\n",
    "    for depth in [\"0-5cm\", \"5-15cm\", \"15-30cm\", \"30-60cm\", \"60-100cm\", \"100-200cm\"]\n",
    "    for tag in [\"mean\"]\n",
    "]\n"
   ]
  },
  {
   "cell_type": "code",
   "execution_count": 18,
   "id": "c7b36f60",
   "metadata": {},
   "outputs": [
    {
     "data": {
      "text/plain": [
       "['bdod_5',\n",
       " 'bdod_15',\n",
       " 'bdod_30',\n",
       " 'bdod_60',\n",
       " 'bdod_100',\n",
       " 'bdod_200',\n",
       " 'cec_5',\n",
       " 'cec_15',\n",
       " 'cec_30',\n",
       " 'cec_60',\n",
       " 'cec_100',\n",
       " 'cec_200',\n",
       " 'cfvo_5',\n",
       " 'cfvo_15',\n",
       " 'cfvo_30',\n",
       " 'cfvo_60',\n",
       " 'cfvo_100',\n",
       " 'cfvo_200',\n",
       " 'clay_5',\n",
       " 'clay_15',\n",
       " 'clay_30',\n",
       " 'clay_60',\n",
       " 'clay_100',\n",
       " 'clay_200',\n",
       " 'nitrogen_5',\n",
       " 'nitrogen_15',\n",
       " 'nitrogen_30',\n",
       " 'nitrogen_60',\n",
       " 'nitrogen_100',\n",
       " 'nitrogen_200',\n",
       " 'ocd_5',\n",
       " 'ocd_15',\n",
       " 'ocd_30',\n",
       " 'ocd_60',\n",
       " 'ocd_100',\n",
       " 'ocd_200',\n",
       " 'ocs_5',\n",
       " 'ocs_15',\n",
       " 'ocs_30',\n",
       " 'ocs_60',\n",
       " 'ocs_100',\n",
       " 'ocs_200',\n",
       " 'phh2o_5',\n",
       " 'phh2o_15',\n",
       " 'phh2o_30',\n",
       " 'phh2o_60',\n",
       " 'phh2o_100',\n",
       " 'phh2o_200',\n",
       " 'sand_5',\n",
       " 'sand_15',\n",
       " 'sand_30',\n",
       " 'sand_60',\n",
       " 'sand_100',\n",
       " 'sand_200',\n",
       " 'silt_5',\n",
       " 'silt_15',\n",
       " 'silt_30',\n",
       " 'silt_60',\n",
       " 'silt_100',\n",
       " 'silt_200',\n",
       " 'soc_5',\n",
       " 'soc_15',\n",
       " 'soc_30',\n",
       " 'soc_60',\n",
       " 'soc_100',\n",
       " 'soc_200']"
      ]
     },
     "execution_count": 18,
     "metadata": {},
     "output_type": "execute_result"
    }
   ],
   "source": [
    "# Define the AOI (Area of Interest) with [North, West, South, East] coordinates\n",
    "aoi = (70.0, 20.0, 42.0, 45.0)\n",
    "\n",
    "# Create a SoilGrids instance\n",
    "\"\"\"\n",
    "    layers : list of str\n",
    "        SoilGrids layers to get. Available options are:\n",
    "        ``bdod_*``, ``cec_*``, ``cfvo_*``, ``clay_*``, ``nitrogen_*``, ``ocd_*``,\n",
    "        ``ocs_*``, ``phh2o_*``, ``sand_*``, ``silt_*``, and ``soc_*``\n",
    "        represents depths in cm and can be one of ``5`` (0-5 cm), ``15``\n",
    "        (5-15 cm), ``30`` (15-30 cm), ``60`` (30-60 cm), ``100`` (60-100 cm), or ``200``\n",
    "        (100-200 cm). For example, ``bdod_5`` is the mean bulk density of\n",
    "        the fine earth fraction at 0-5 cm depth, and ``bdod_200`` is the mean bulk\n",
    "        density of the fine earth fraction at 100-200 cm depth.\n",
    "\"\"\"\n",
    "layer_of_interest = [\n",
    "    f\"{fraction}_{depth}\"\n",
    "    for fraction in [\n",
    "        \"bdod\",\n",
    "        \"cec\",\n",
    "        \"cfvo\",\n",
    "        \"clay\",\n",
    "        \"nitrogen\",\n",
    "        \"ocd\",\n",
    "        \"ocs\",\n",
    "        \"phh2o\",\n",
    "        \"sand\",\n",
    "        \"silt\",\n",
    "        \"soc\",\n",
    "    ]\n",
    "    for depth in [5, 15, 30, 60, 100, 200]\n",
    "]\n",
    "layer_of_interest"
   ]
  }
 ],
 "metadata": {
  "kernelspec": {
   "display_name": "Geo",
   "language": "python",
   "name": "python3"
  },
  "language_info": {
   "codemirror_mode": {
    "name": "ipython",
    "version": 3
   },
   "file_extension": ".py",
   "mimetype": "text/x-python",
   "name": "python",
   "nbconvert_exporter": "python",
   "pygments_lexer": "ipython3",
   "version": "3.12.10"
  }
 },
 "nbformat": 4,
 "nbformat_minor": 5
}
