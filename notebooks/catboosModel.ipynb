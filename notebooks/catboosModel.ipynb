{
 "cells": [
  {
   "cell_type": "code",
   "execution_count": 1,
   "id": "7be72157",
   "metadata": {},
   "outputs": [],
   "source": [
    "import json\n",
    "import random\n",
    "import sys\n",
    "import warnings\n",
    "from pathlib import Path\n",
    "\n",
    "import optuna\n",
    "from catboost import CatBoostRegressor\n",
    "\n",
    "# Evaluate model performance\n",
    "\n",
    "# Add parent directory to Python path to access src modules\n",
    "sys.path.append(str(Path(\"..\").resolve()))\n",
    "from src.models.catboost.data_loaders import (\n",
    "    create_pools,\n",
    "    get_data_masks,\n",
    "    get_feature_lists,\n",
    "    round_static_features,\n",
    "    split_gauges,\n",
    ")\n",
    "from src.readers.geo_char_reader import (\n",
    "    get_combined_features,\n",
    "    load_static_data,\n",
    ")\n",
    "from src.readers.geom_reader import load_geodata\n",
    "from src.readers.hydro_data_reader import data_creator, find_valid_gauges\n",
    "from src.utils.logger import setup_logger\n",
    "from src.utils.metrics import evaluate_model\n",
    "\n",
    "optuna.logging.set_verbosity(optuna.logging.WARNING)\n",
    "warnings.filterwarnings(\"ignore\")\n",
    "# Set random seed for reproducibility\n",
    "random.seed(42)\n",
    "logger = setup_logger(name=\"CatboostTraining\", log_file=\"../logs/catboost.log\")\n"
   ]
  },
  {
   "cell_type": "code",
   "execution_count": 2,
   "id": "947d8007",
   "metadata": {},
   "outputs": [
    {
     "name": "stderr",
     "output_type": "stream",
     "text": [
      "2025-06-25 17:18:22 | CatboostTraining | INFO     | <module>:2 | Finding gauges with valid data...\n",
      "2025-06-25 17:18:24 | hydro_atlas_loader | INFO     | get_combined_features:48 | Selected 29 uncorrelated features from static_data.\n",
      "2025-06-25 17:18:24 | catboost_loader | INFO     | split_gauges:28 | Split 302 gauges into 256 train and 46 test gauges\n"
     ]
    }
   ],
   "source": [
    "e_obs_ws, _ = load_geodata(folder_depth=\"..\")\n",
    "logger.info(\"Finding gauges with valid data...\")\n",
    "full_gauges, partial_gauges = find_valid_gauges(e_obs_ws, Path(\"../data/HydroFiles\"))\n",
    "static_data = load_static_data(full_gauges + partial_gauges, path_prefix=\"../\")\n",
    "combined_feature, combined_features_df = get_combined_features(static_data)\n",
    "train_gauges, test_gauges = split_gauges(full_gauges)"
   ]
  },
  {
   "cell_type": "code",
   "execution_count": 4,
   "id": "1f82259f",
   "metadata": {},
   "outputs": [
    {
     "name": "stderr",
     "output_type": "stream",
     "text": [
      "2025-06-25 17:28:36 | CatboostTraining | INFO     | <module>:7 | Creating test dataset with 302 gauges...\n"
     ]
    },
    {
     "name": "stderr",
     "output_type": "stream",
     "text": [
      "2025-06-25 17:28:42 | CatboostTraining | INFO     | <module>:18 | Training samples: 1213436, Validation samples: 220762, Test samples: 220460\n",
      "2025-06-25 17:28:42 | CatboostTraining | INFO     | <module>:22 | Prepared 53 features with 31 categorical features\n",
      "2025-06-25 17:28:51 | CatboostTraining | INFO     | <module>:7 | Creating test dataset with 302 gauges...\n",
      "2025-06-25 17:28:56 | CatboostTraining | INFO     | <module>:18 | Training samples: 1213436, Validation samples: 220762, Test samples: 220460\n",
      "2025-06-25 17:28:56 | CatboostTraining | INFO     | <module>:22 | Prepared 52 features with 31 categorical features\n",
      "2025-06-25 17:29:05 | CatboostTraining | INFO     | <module>:7 | Creating test dataset with 302 gauges...\n",
      "2025-06-25 17:29:10 | CatboostTraining | INFO     | <module>:18 | Training samples: 1213436, Validation samples: 220762, Test samples: 220460\n",
      "2025-06-25 17:29:10 | CatboostTraining | INFO     | <module>:22 | Prepared 53 features with 31 categorical features\n",
      "2025-06-25 17:29:18 | CatboostTraining | INFO     | <module>:7 | Creating test dataset with 302 gauges...\n",
      "2025-06-25 17:29:24 | CatboostTraining | INFO     | <module>:18 | Training samples: 1213436, Validation samples: 220762, Test samples: 220460\n",
      "2025-06-25 17:29:24 | CatboostTraining | INFO     | <module>:22 | Prepared 53 features with 31 categorical features\n"
     ]
    }
   ],
   "source": [
    "METEO_DATASETS = [\"meteo_ru_nc_02\", \"e_obs\", \"era5_land\", \"mswep\"]\n",
    "for meteo_dataset in METEO_DATASETS:\n",
    "    meteo_dir = Path(f\"../data/MeteoData/ProcessedGauges/{meteo_dataset}/res/\")\n",
    "    hydro_dir = Path(\"../data/HydroFiles/\")\n",
    "    temp_dir = Path(\"../data/MeteoData/ProcessedGauges/era5_land/res/\")\n",
    "\n",
    "    logger.info(f\"Creating test dataset with {len(full_gauges)} gauges...\")\n",
    "    test_data = data_creator(\n",
    "        full_gauges=full_gauges,\n",
    "        static_data=combined_features_df,\n",
    "        meteo_dir=meteo_dir,\n",
    "        hydro_dir=hydro_dir,\n",
    "        temp_dir=temp_dir,\n",
    "    )\n",
    "    test_data = round_static_features(test_data, combined_feature)\n",
    "    test_data[\"day_of_year\"] = test_data[\"day_of_year\"].astype(int)\n",
    "    train_mask, valid_mask, test_mask = get_data_masks(test_data)\n",
    "    logger.info(\n",
    "        f\"Training samples: {train_mask.sum()}, Validation samples: {valid_mask.sum()}, Test samples: {test_mask.sum()}\"\n",
    "    )\n",
    "    categorical_features, numeric_features = get_feature_lists(test_data, combined_feature)\n",
    "    logger.info(\n",
    "        f\"Prepared {len(numeric_features)} features with {len(categorical_features)} categorical features\"\n",
    "    )\n",
    "    _, _, test_pool = create_pools(\n",
    "        test_data, test_data, train_mask, valid_mask, test_mask, numeric_features, categorical_features\n",
    "    )\n",
    "\n",
    "    # Path to the CatBoost model\n",
    "    catboost_model_path = f\"../data/res/catboost/catboost_model_{meteo_dataset}.cbm\"\n",
    "    model = CatBoostRegressor()\n",
    "    model.load_model(catboost_model_path)\n",
    "\n",
    "    eval_data = test_data[test_mask].copy()\n",
    "    eval_data[\"q_pred\"] = model.predict(test_pool)\n",
    "\n",
    "    for gauge_id in full_gauges:\n",
    "        save_path = Path(f\"../data/res/catboost/{gauge_id}/{gauge_id}_{meteo_dataset}/\")\n",
    "        save_path.mkdir(parents=True, exist_ok=True)\n",
    "        gauge_data = eval_data.loc[eval_data[\"gauge_id\"] == gauge_id, [\"date\", \"q\", \"q_pred\"]].set_index(\n",
    "            \"date\"\n",
    "        )\n",
    "        gauge_metrics = evaluate_model(gauge_data[\"q\"], gauge_data[\"q_pred\"])\n",
    "        with open(save_path / \"metrics.json\", \"w\") as f:\n",
    "            json.dump(gauge_metrics, f)\n"
   ]
  }
 ],
 "metadata": {
  "kernelspec": {
   "display_name": "Geo",
   "language": "python",
   "name": "python3"
  },
  "language_info": {
   "codemirror_mode": {
    "name": "ipython",
    "version": 3
   },
   "file_extension": ".py",
   "mimetype": "text/x-python",
   "name": "python",
   "nbconvert_exporter": "python",
   "pygments_lexer": "ipython3",
   "version": "3.12.10"
  }
 },
 "nbformat": 4,
 "nbformat_minor": 5
}
