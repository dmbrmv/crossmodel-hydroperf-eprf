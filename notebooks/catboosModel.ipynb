{
 "cells": [
  {
   "cell_type": "code",
   "execution_count": 2,
   "id": "7be72157",
   "metadata": {},
   "outputs": [],
   "source": [
    "import json\n",
    "import random\n",
    "import sys\n",
    "import warnings\n",
    "from pathlib import Path\n",
    "\n",
    "import optuna\n",
    "from catboost import CatBoostRegressor\n",
    "\n",
    "# Evaluate model performance\n",
    "\n",
    "# Add parent directory to Python path to access src modules\n",
    "sys.path.append(str(Path(\"..\").resolve()))\n",
    "from src.models.catboost.data_loaders import (\n",
    "    create_pools,\n",
    "    get_data_masks,\n",
    "    get_feature_lists,\n",
    "    round_static_features,\n",
    "    split_gauges,\n",
    ")\n",
    "from src.readers.geo_char_reader import (\n",
    "    get_combined_features,\n",
    "    load_static_data,\n",
    ")\n",
    "from src.readers.geom_reader import load_geodata\n",
    "from src.readers.hydro_data_reader import data_creator, find_valid_gauges\n",
    "from src.utils.logger import setup_logger\n",
    "from src.utils.metrics import evaluate_model\n",
    "\n",
    "optuna.logging.set_verbosity(optuna.logging.WARNING)\n",
    "warnings.filterwarnings(\"ignore\")\n",
    "# Set random seed for reproducibility\n",
    "random.seed(42)\n",
    "logger = setup_logger(name=\"CatboostTraining\", log_file=\"../logs/catboost.log\")\n"
   ]
  },
  {
   "cell_type": "code",
   "execution_count": 3,
   "id": "947d8007",
   "metadata": {},
   "outputs": [
    {
     "name": "stderr",
     "output_type": "stream",
     "text": [
      "2025-06-23 16:51:27 | CatboostTraining | INFO     | <module>:2 | Finding gauges with valid data...\n",
      "2025-06-23 16:51:29 | hydro_atlas_loader | INFO     | get_combined_features:48 | Selected 29 uncorrelated features from static_data.\n",
      "2025-06-23 16:51:29 | catboost_loader | INFO     | split_gauges:28 | Split 302 gauges into 256 train and 46 test gauges\n"
     ]
    }
   ],
   "source": [
    "e_obs_ws, _ = load_geodata(folder_depth=\"..\")\n",
    "logger.info(\"Finding gauges with valid data...\")\n",
    "full_gauges, partial_gauges = find_valid_gauges(e_obs_ws, Path(\"../data/HydroFiles\"))\n",
    "static_data = load_static_data(full_gauges + partial_gauges, path_prefix=\"../\")\n",
    "combined_feature, combined_features_df = get_combined_features(static_data)\n",
    "train_gauges, test_gauges = split_gauges(full_gauges)"
   ]
  },
  {
   "cell_type": "code",
   "execution_count": 5,
   "id": "1f82259f",
   "metadata": {},
   "outputs": [
    {
     "name": "stderr",
     "output_type": "stream",
     "text": [
      "2025-06-23 16:52:15 | CatboostTraining | INFO     | <module>:7 | Creating test dataset with 302 gauges...\n",
      "2025-06-23 16:52:19 | CatboostTraining | INFO     | <module>:18 | Training samples: 1213436, Validation samples: 220762, Test samples: 220460\n",
      "2025-06-23 16:52:19 | CatboostTraining | INFO     | <module>:22 | Prepared 53 features with 31 categorical features\n"
     ]
    },
    {
     "ename": "CatBoostError",
     "evalue": "catboost/libs/model/model_import_interface.h:19: Model file doesn't exist: ../data/res/catboost/catboost_model_meteo_ru_nc_02.cbm",
     "output_type": "error",
     "traceback": [
      "\u001b[31m---------------------------------------------------------------------------\u001b[39m",
      "\u001b[31mCatBoostError\u001b[39m                             Traceback (most recent call last)",
      "\u001b[36mCell\u001b[39m\u001b[36m \u001b[39m\u001b[32mIn[5]\u001b[39m\u001b[32m, line 32\u001b[39m\n\u001b[32m     30\u001b[39m catboost_model_path = \u001b[33mf\u001b[39m\u001b[33m\"\u001b[39m\u001b[33m../data/res/catboost/catboost_model_\u001b[39m\u001b[38;5;132;01m{\u001b[39;00mmeteo_dataset\u001b[38;5;132;01m}\u001b[39;00m\u001b[33m.cbm\u001b[39m\u001b[33m\"\u001b[39m\n\u001b[32m     31\u001b[39m model = CatBoostRegressor()\n\u001b[32m---> \u001b[39m\u001b[32m32\u001b[39m \u001b[43mmodel\u001b[49m\u001b[43m.\u001b[49m\u001b[43mload_model\u001b[49m\u001b[43m(\u001b[49m\u001b[43mcatboost_model_path\u001b[49m\u001b[43m)\u001b[49m\n\u001b[32m     34\u001b[39m eval_data = test_data[test_mask].copy()\n\u001b[32m     35\u001b[39m eval_data[\u001b[33m\"\u001b[39m\u001b[33mq_pred\u001b[39m\u001b[33m\"\u001b[39m] = model.predict(test_pool)\n",
      "\u001b[36mFile \u001b[39m\u001b[32m~/miniconda3/envs/Geo/lib/python3.12/site-packages/catboost/core.py:3452\u001b[39m, in \u001b[36mCatBoost.load_model\u001b[39m\u001b[34m(self, fname, format, stream, blob)\u001b[39m\n\u001b[32m   3449\u001b[39m     \u001b[38;5;28;01mraise\u001b[39;00m CatBoostError(\u001b[33m\"\u001b[39m\u001b[33mExactly one of fname/stream/blob arguments mustn\u001b[39m\u001b[33m'\u001b[39m\u001b[33mt be None\u001b[39m\u001b[33m\"\u001b[39m)\n\u001b[32m   3451\u001b[39m \u001b[38;5;28;01mif\u001b[39;00m fname \u001b[38;5;129;01mis\u001b[39;00m \u001b[38;5;129;01mnot\u001b[39;00m \u001b[38;5;28;01mNone\u001b[39;00m:\n\u001b[32m-> \u001b[39m\u001b[32m3452\u001b[39m     \u001b[38;5;28;43mself\u001b[39;49m\u001b[43m.\u001b[49m\u001b[43m_load_model\u001b[49m\u001b[43m(\u001b[49m\u001b[43mfname\u001b[49m\u001b[43m,\u001b[49m\u001b[43m \u001b[49m\u001b[38;5;28;43mformat\u001b[39;49m\u001b[43m)\u001b[49m\n\u001b[32m   3453\u001b[39m \u001b[38;5;28;01melif\u001b[39;00m stream \u001b[38;5;129;01mis\u001b[39;00m \u001b[38;5;129;01mnot\u001b[39;00m \u001b[38;5;28;01mNone\u001b[39;00m:\n\u001b[32m   3454\u001b[39m     \u001b[38;5;28mself\u001b[39m._load_from_stream(stream)\n",
      "\u001b[36mFile \u001b[39m\u001b[32m~/miniconda3/envs/Geo/lib/python3.12/site-packages/catboost/core.py:1913\u001b[39m, in \u001b[36m_CatBoostBase._load_model\u001b[39m\u001b[34m(self, model_file, format)\u001b[39m\n\u001b[32m   1911\u001b[39m     \u001b[38;5;28;01mraise\u001b[39;00m CatBoostError(\u001b[33m\"\u001b[39m\u001b[33mInvalid fname type=\u001b[39m\u001b[38;5;132;01m{}\u001b[39;00m\u001b[33m: must be str() or pathlib.Path().\u001b[39m\u001b[33m\"\u001b[39m.format(\u001b[38;5;28mtype\u001b[39m(model_file)))\n\u001b[32m   1912\u001b[39m \u001b[38;5;28mself\u001b[39m._init_params = {}\n\u001b[32m-> \u001b[39m\u001b[32m1913\u001b[39m \u001b[38;5;28;43mself\u001b[39;49m\u001b[43m.\u001b[49m\u001b[43m_object\u001b[49m\u001b[43m.\u001b[49m\u001b[43m_load_model\u001b[49m\u001b[43m(\u001b[49m\u001b[43mmodel_file\u001b[49m\u001b[43m,\u001b[49m\u001b[43m \u001b[49m\u001b[38;5;28;43mformat\u001b[39;49m\u001b[43m)\u001b[49m\n\u001b[32m   1914\u001b[39m \u001b[38;5;28mself\u001b[39m._set_trained_model_attributes()\n\u001b[32m   1915\u001b[39m \u001b[38;5;28;01mfor\u001b[39;00m key, value \u001b[38;5;129;01min\u001b[39;00m iteritems(\u001b[38;5;28mself\u001b[39m._get_params()):\n",
      "\u001b[36mFile \u001b[39m\u001b[32m_catboost.pyx:5388\u001b[39m, in \u001b[36m_catboost._CatBoost._load_model\u001b[39m\u001b[34m()\u001b[39m\n",
      "\u001b[36mFile \u001b[39m\u001b[32m_catboost.pyx:5391\u001b[39m, in \u001b[36m_catboost._CatBoost._load_model\u001b[39m\u001b[34m()\u001b[39m\n",
      "\u001b[31mCatBoostError\u001b[39m: catboost/libs/model/model_import_interface.h:19: Model file doesn't exist: ../data/res/catboost/catboost_model_meteo_ru_nc_02.cbm"
     ]
    }
   ],
   "source": [
    "METEO_DATASETS = [\"meteo_ru_nc_02\", \"e_obs\", \"era5_land\", \"mswep\"]\n",
    "for meteo_dataset in METEO_DATASETS:\n",
    "    meteo_dir = Path(f\"../data/MeteoData/ProcessedGauges/{meteo_dataset}/res/\")\n",
    "    hydro_dir = Path(\"../data/HydroFiles/\")\n",
    "    temp_dir = Path(\"../data/MeteoData/ProcessedGauges/era5_land/res/\")\n",
    "\n",
    "    logger.info(f\"Creating test dataset with {len(full_gauges)} gauges...\")\n",
    "    test_data = data_creator(\n",
    "        full_gauges=full_gauges,\n",
    "        static_data=combined_features_df,\n",
    "        meteo_dir=meteo_dir,\n",
    "        hydro_dir=hydro_dir,\n",
    "        temp_dir=temp_dir,\n",
    "    )\n",
    "    test_data = round_static_features(test_data, combined_feature)\n",
    "    test_data[\"day_of_year\"] = test_data[\"day_of_year\"].astype(int)\n",
    "    train_mask, valid_mask, test_mask = get_data_masks(test_data)\n",
    "    logger.info(\n",
    "        f\"Training samples: {train_mask.sum()}, Validation samples: {valid_mask.sum()}, Test samples: {test_mask.sum()}\"\n",
    "    )\n",
    "    categorical_features, numeric_features = get_feature_lists(test_data, combined_feature)\n",
    "    logger.info(\n",
    "        f\"Prepared {len(numeric_features)} features with {len(categorical_features)} categorical features\"\n",
    "    )\n",
    "    _, _, test_pool = create_pools(\n",
    "        test_data, test_data, train_mask, valid_mask, test_mask, numeric_features, categorical_features\n",
    "    )\n",
    "\n",
    "    # Path to the CatBoost model\n",
    "    catboost_model_path = f\"../data/res/catboost/catboost_model_{meteo_dataset}.cbm\"\n",
    "    model = CatBoostRegressor()\n",
    "    model.load_model(catboost_model_path)\n",
    "\n",
    "    eval_data = test_data[test_mask].copy()\n",
    "    eval_data[\"q_pred\"] = model.predict(test_pool)\n",
    "\n",
    "    for gauge_id in train_gauges:\n",
    "        save_path = Path(f\"../data/res/catboost/{gauge_id}/{gauge_id}_{meteo_dataset}/\")\n",
    "        save_path.mkdir(parents=True, exist_ok=True)\n",
    "        gauge_data = eval_data.loc[eval_data[\"gauge_id\"] == gauge_id, [\"date\", \"q\", \"q_pred\"]].set_index(\n",
    "            \"date\"\n",
    "        )\n",
    "        gauge_metrics = evaluate_model(gauge_data[\"q\"], gauge_data[\"q_pred\"])\n",
    "        with open(save_path / \"metrics.json\", \"w\") as f:\n",
    "            json.dump(gauge_metrics, f)\n"
   ]
  }
 ],
 "metadata": {
  "kernelspec": {
   "display_name": "Geo",
   "language": "python",
   "name": "python3"
  },
  "language_info": {
   "codemirror_mode": {
    "name": "ipython",
    "version": 3
   },
   "file_extension": ".py",
   "mimetype": "text/x-python",
   "name": "python",
   "nbconvert_exporter": "python",
   "pygments_lexer": "ipython3",
   "version": "3.12.10"
  }
 },
 "nbformat": 4,
 "nbformat_minor": 5
}
