{
 "cells": [
  {
   "cell_type": "code",
   "execution_count": 11,
   "id": "d4bfa041",
   "metadata": {},
   "outputs": [],
   "source": [
    "import json\n",
    "import random\n",
    "import sys\n",
    "import warnings\n",
    "from pathlib import Path\n",
    "\n",
    "import optuna\n",
    "import pandas as pd\n",
    "\n",
    "# Evaluate model performance\n",
    "\n",
    "# Add parent directory to Python path to access src modules\n",
    "sys.path.append(str(Path(\"..\").resolve()))\n",
    "from src.readers.geom_reader import load_geodata\n",
    "from src.readers.hydro_data_reader import find_valid_gauges\n",
    "from src.utils.logger import setup_logger\n",
    "\n",
    "optuna.logging.set_verbosity(optuna.logging.WARNING)\n",
    "warnings.filterwarnings(\"ignore\")\n",
    "# Set random seed for reproducibility\n",
    "random.seed(42)\n",
    "logger = setup_logger(name=\"ModelMetrics\", log_file=\"../logs/metrics.log\")\n"
   ]
  },
  {
   "cell_type": "code",
   "execution_count": 29,
   "id": "78666ca2",
   "metadata": {},
   "outputs": [
    {
     "name": "stderr",
     "output_type": "stream",
     "text": [
      "2025-06-23 17:27:57 | ModelMetrics | INFO     | <module>:2 | Finding gauges with valid data...\n"
     ]
    }
   ],
   "source": [
    "e_obs_ws, e_obs_gauges = load_geodata(folder_depth=\"..\")\n",
    "logger.info(\"Finding gauges with valid data...\")\n",
    "full_gauges, partial_gauges = find_valid_gauges(e_obs_ws, Path(\"../data/HydroFiles\"))"
   ]
  },
  {
   "cell_type": "code",
   "execution_count": null,
   "id": "539fe704",
   "metadata": {},
   "outputs": [],
   "source": [
    "METEO_DATASETS = [\"meteo_ru_nc_02\", \"e_obs\", \"era5_land\", \"mswep\"]\n",
    "\n",
    "metrics = {}\n",
    "\n",
    "for model in [\"catboost\", \"gr4j_optuna\"]:\n",
    "    if model == \"catboost\":\n",
    "        continue  # Skip catboost for now, as it is not implemented yet\n",
    "    metrics[model] = {}\n",
    "    for meteo_dataset in METEO_DATASETS:\n",
    "        metrics[model][meteo_dataset] = []\n",
    "        for gauge_id in full_gauges:\n",
    "            with open(f\"../data/res/{model}/{gauge_id}/{gauge_id}_{meteo_dataset}/metrics.json\") as f:\n",
    "                gauge_metric = json.load(f)\n",
    "            metrics[model][meteo_dataset].append(pd.DataFrame(gauge_metric, index=[gauge_id]))\n"
   ]
  },
  {
   "cell_type": "code",
   "execution_count": 20,
   "id": "6cd2aacf",
   "metadata": {},
   "outputs": [],
   "source": [
    "e_obs_metrics = pd.concat(metrics[\"gr4j_optuna\"][\"e_obs\"], axis=0)\n",
    "meteo_ru_nc_02_metrics = pd.concat(metrics[\"gr4j_optuna\"][\"meteo_ru_nc_02\"], axis=0)\n",
    "era5_land_metrics = pd.concat(metrics[\"gr4j_optuna\"][\"era5_land\"], axis=0)\n",
    "mswep_metrics = pd.concat(metrics[\"gr4j_optuna\"][\"mswep\"], axis=0)"
   ]
  },
  {
   "cell_type": "code",
   "execution_count": null,
   "id": "dbc4ff24",
   "metadata": {},
   "outputs": [],
   "source": []
  },
  {
   "cell_type": "code",
   "execution_count": 28,
   "id": "108cf716",
   "metadata": {},
   "outputs": [
    {
     "data": {
      "application/vnd.microsoft.datawrangler.viewer.v0+json": {
       "columns": [
        {
         "name": "index",
         "rawType": "object",
         "type": "string"
        },
        {
         "name": "0",
         "rawType": "float64",
         "type": "float"
        }
       ],
       "ref": "56630ea5-b7fa-4d55-80f4-0b7339b00ecb",
       "rows": [
        [
         "NSE",
         "0.5284527764621476"
        ],
        [
         "KGE",
         "0.633659498549939"
        ],
        [
         "PBIAS",
         "9.716214436170848"
        ],
        [
         "RMSE",
         "0.4760109362667422"
        ],
        [
         "MAE",
         "0.27618228971276426"
        ],
        [
         "logNSE",
         "0.4013872979503874"
        ],
        [
         "R2",
         "0.601733179384466"
        ],
        [
         "PFE",
         "-14.226462318197648"
        ]
       ],
       "shape": {
        "columns": 1,
        "rows": 8
       }
      },
      "text/plain": [
       "NSE        0.528453\n",
       "KGE        0.633659\n",
       "PBIAS      9.716214\n",
       "RMSE       0.476011\n",
       "MAE        0.276182\n",
       "logNSE     0.401387\n",
       "R2         0.601733\n",
       "PFE      -14.226462\n",
       "dtype: float64"
      ]
     },
     "execution_count": 28,
     "metadata": {},
     "output_type": "execute_result"
    }
   ],
   "source": [
    "meteo_ru_nc_02_metrics.median()"
   ]
  },
  {
   "cell_type": "code",
   "execution_count": 27,
   "id": "2d5ac579",
   "metadata": {},
   "outputs": [
    {
     "data": {
      "application/vnd.microsoft.datawrangler.viewer.v0+json": {
       "columns": [
        {
         "name": "index",
         "rawType": "object",
         "type": "string"
        },
        {
         "name": "0",
         "rawType": "float64",
         "type": "float"
        }
       ],
       "ref": "832aff54-90ba-4976-9794-5b0f8cd25e2b",
       "rows": [
        [
         "NSE",
         "0.5377897191592411"
        ],
        [
         "KGE",
         "0.6484013838668052"
        ],
        [
         "PBIAS",
         "5.4831169189974105"
        ],
        [
         "RMSE",
         "0.46176492921365303"
        ],
        [
         "MAE",
         "0.26232882336914964"
        ],
        [
         "logNSE",
         "0.41567907229297407"
        ],
        [
         "R2",
         "0.6629419088436272"
        ],
        [
         "PFE",
         "-6.939282333779752"
        ]
       ],
       "shape": {
        "columns": 1,
        "rows": 8
       }
      },
      "text/plain": [
       "NSE       0.537790\n",
       "KGE       0.648401\n",
       "PBIAS     5.483117\n",
       "RMSE      0.461765\n",
       "MAE       0.262329\n",
       "logNSE    0.415679\n",
       "R2        0.662942\n",
       "PFE      -6.939282\n",
       "dtype: float64"
      ]
     },
     "execution_count": 27,
     "metadata": {},
     "output_type": "execute_result"
    }
   ],
   "source": [
    "mswep_metrics.median()"
   ]
  },
  {
   "cell_type": "code",
   "execution_count": 25,
   "id": "b49c77ba",
   "metadata": {},
   "outputs": [
    {
     "data": {
      "application/vnd.microsoft.datawrangler.viewer.v0+json": {
       "columns": [
        {
         "name": "index",
         "rawType": "object",
         "type": "string"
        },
        {
         "name": "0",
         "rawType": "float64",
         "type": "float"
        }
       ],
       "ref": "392dbdb9-ddc9-4b43-a68d-ab727a0b625b",
       "rows": [
        [
         "NSE",
         "0.5561391431825989"
        ],
        [
         "KGE",
         "0.6487301748672467"
        ],
        [
         "PBIAS",
         "3.9977653476643793"
        ],
        [
         "RMSE",
         "0.447477511819679"
        ],
        [
         "MAE",
         "0.26916807724152075"
        ],
        [
         "logNSE",
         "0.4316652961426561"
        ],
        [
         "R2",
         "0.6422654519326105"
        ],
        [
         "PFE",
         "-16.035996089446634"
        ]
       ],
       "shape": {
        "columns": 1,
        "rows": 8
       }
      },
      "text/plain": [
       "NSE        0.556139\n",
       "KGE        0.648730\n",
       "PBIAS      3.997765\n",
       "RMSE       0.447478\n",
       "MAE        0.269168\n",
       "logNSE     0.431665\n",
       "R2         0.642265\n",
       "PFE      -16.035996\n",
       "dtype: float64"
      ]
     },
     "execution_count": 25,
     "metadata": {},
     "output_type": "execute_result"
    }
   ],
   "source": [
    "era5_land_metrics.median()"
   ]
  },
  {
   "cell_type": "code",
   "execution_count": 26,
   "id": "0250ed24",
   "metadata": {},
   "outputs": [
    {
     "data": {
      "application/vnd.microsoft.datawrangler.viewer.v0+json": {
       "columns": [
        {
         "name": "index",
         "rawType": "object",
         "type": "string"
        },
        {
         "name": "0",
         "rawType": "float64",
         "type": "float"
        }
       ],
       "ref": "57c3dd28-b14a-447a-9757-a3d9f3ef9f58",
       "rows": [
        [
         "NSE",
         "0.12289775953485266"
        ],
        [
         "KGE",
         "0.34373107609074977"
        ],
        [
         "PBIAS",
         "2.000565413972695"
        ],
        [
         "RMSE",
         "0.585763645839847"
        ],
        [
         "MAE",
         "0.3383750620677387"
        ],
        [
         "logNSE",
         "0.12573622724120065"
        ],
        [
         "R2",
         "0.40473698213427567"
        ],
        [
         "PFE",
         "-20.656551681009233"
        ]
       ],
       "shape": {
        "columns": 1,
        "rows": 8
       }
      },
      "text/plain": [
       "NSE        0.122898\n",
       "KGE        0.343731\n",
       "PBIAS      2.000565\n",
       "RMSE       0.585764\n",
       "MAE        0.338375\n",
       "logNSE     0.125736\n",
       "R2         0.404737\n",
       "PFE      -20.656552\n",
       "dtype: float64"
      ]
     },
     "execution_count": 26,
     "metadata": {},
     "output_type": "execute_result"
    }
   ],
   "source": [
    "e_obs_metrics.median()\n"
   ]
  }
 ],
 "metadata": {
  "kernelspec": {
   "display_name": "Geo",
   "language": "python",
   "name": "python3"
  },
  "language_info": {
   "codemirror_mode": {
    "name": "ipython",
    "version": 3
   },
   "file_extension": ".py",
   "mimetype": "text/x-python",
   "name": "python",
   "nbconvert_exporter": "python",
   "pygments_lexer": "ipython3",
   "version": "3.12.10"
  }
 },
 "nbformat": 4,
 "nbformat_minor": 5
}
