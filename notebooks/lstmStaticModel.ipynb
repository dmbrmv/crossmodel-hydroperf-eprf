{
 "cells": [
  {
   "cell_type": "markdown",
   "metadata": {},
   "source": [
    "# LSTM with Static and Dynamic Features\n",
    "This notebook demonstrates training the `HydroLSTM` model using dynamic meteorological inputs and static physiographic attributes."
   ]
  },
  {
   "cell_type": "code",
   "metadata": {},
   "execution_count": null,
   "outputs": [],
   "source": [
    "import json\n",
    "from pathlib import Path\n",
    "\n",
    "import torch\n",
    "from torch.utils.data import DataLoader\n",
    "\n",
    "from src.models.lstm.data_builders import build_dataset_from_folder\n",
    "from src.models.lstm.losses import HuberLoss\n",
    "from src.models.lstm.model import HydroLSTM\n",
    "from src.models.lstm.splits import split_by_ranges\n"
   ]
  },
  {
   "cell_type": "code",
   "metadata": {},
   "execution_count": null,
   "outputs": [],
   "source": [
    "gauge_ids = ['0001', '0002']\n",
    "meteo_dir = Path('../data/MeteoData/ProcessedGauges/era5_land/res')\n",
    "hydro_dir = Path('../data/HydroFiles')\n",
    "static_df = ...  # load DataFrame with static attributes indexed by gauge_id\n",
    "dyn_cols = ['prcp', 't_mean', 't_min', 't_max']\n",
    "dataset, dates = build_dataset_from_folder(\n",
    "    gauge_ids,\n",
    "    meteo_dir=meteo_dir,\n",
    "    hydro_dir=hydro_dir,\n",
    "    temp_dir=None,\n",
    "    df_static=static_df,\n",
    "    dyn_feature_cols=dyn_cols,\n",
    "    seq_len=90\n",
    ")\n",
    "train_ds, val_ds, test_ds = split_by_ranges(\n",
    "    dataset,\n",
    "    dates,\n",
    "    train_range=('2008-01-01', '2018-12-31'),\n",
    "    val_range=('2019-01-01', '2020-12-31'),\n",
    "    test_range=('2021-01-01', '2022-12-31')\n",
    ")\n",
    "train_loader = DataLoader(train_ds, batch_size=64, shuffle=True)\n",
    "val_loader = DataLoader(val_ds, batch_size=64)\n",
    "test_loader = DataLoader(test_ds, batch_size=64)\n"
   ]
  },
  {
   "cell_type": "code",
   "metadata": {},
   "execution_count": null,
   "outputs": [],
   "source": [
    "device = 'cuda' if torch.cuda.is_available() else 'cpu'\n",
    "model = HydroLSTM(\n",
    "    n_dyn=dataset.dyn.shape[-1],\n",
    "    n_static=dataset.static.shape[-1],\n",
    "    static_mode='init'\n",
    ").to(device)\n",
    "loss_fn = HuberLoss(delta=1.0)\n",
    "optim = torch.optim.AdamW(model.parameters(), lr=1e-3)\n",
    "\n",
    "for epoch in range(1, 6):\n",
    "    model.train()\n",
    "    for seq, stat, y in train_loader:\n",
    "        seq, stat, y = seq.to(device), stat.to(device), y.to(device)\n",
    "        optim.zero_grad()\n",
    "        pred = model(seq, stat)\n",
    "        loss = loss_fn(pred, y)\n",
    "        loss.backward()\n",
    "        optim.step()\n",
    "    val_loss = 0.0\n",
    "    model.eval()\n",
    "    with torch.no_grad():\n",
    "        for seq, stat, y in val_loader:\n",
    "            pred = model(seq.to(device), stat.to(device))\n",
    "            val_loss += loss_fn(pred, y.to(device)).item() * seq.size(0)\n",
    "    print(f'Epoch {epoch}: val loss {val_loss / len(val_ds):.4f}')\n",
    "torch.save(model.state_dict(), 'hydrolstm_static.pt')\n"
   ]
  }
 ],
 "metadata": {
  "kernelspec": {
   "display_name": "Python 3",
   "language": "python",
   "name": "python3"
  },
  "language_info": {
   "name": "python",
   "version": "3.12"
  }
 },
 "nbformat": 4,
 "nbformat_minor": 5
}
