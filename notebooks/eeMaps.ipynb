{
 "cells": [
  {
   "cell_type": "code",
   "execution_count": null,
   "id": "927e4ba9",
   "metadata": {},
   "outputs": [
    {
     "ename": "ModuleNotFoundError",
     "evalue": "No module named 'geemap'",
     "output_type": "error",
     "traceback": [
      "\u001b[31m---------------------------------------------------------------------------\u001b[39m",
      "\u001b[31mModuleNotFoundError\u001b[39m                       Traceback (most recent call last)",
      "\u001b[36mCell\u001b[39m\u001b[36m \u001b[39m\u001b[32mIn[1]\u001b[39m\u001b[32m, line 1\u001b[39m\n\u001b[32m----> \u001b[39m\u001b[32m1\u001b[39m \u001b[38;5;28;01mimport\u001b[39;00m\u001b[38;5;250m \u001b[39m\u001b[34;01mee\u001b[39;00m,\u001b[38;5;250m \u001b[39m\u001b[34;01mgeemap\u001b[39;00m\n\u001b[32m      3\u001b[39m ee.Initialize()  \u001b[38;5;66;03m# Needs one-time authentication\u001b[39;00m\n\u001b[32m      5\u001b[39m \u001b[38;5;66;03m# ❶ Define your AOI – here, a WKT polygon\u001b[39;00m\n",
      "\u001b[31mModuleNotFoundError\u001b[39m: No module named 'geemap'"
     ]
    }
   ],
   "source": [
    "import ee, geemap\n",
    "\n",
    "ee.Initialize()  # Needs one-time authentication\n",
    "\n",
    "# ❶ Define your AOI – here, a WKT polygon\n",
    "aoi = ee.Geometry.Polygon([[[11.81, 57.7], [12.70, 57.7], [12.70, 56.9], [11.81, 56.9]]])\n",
    "\n",
    "# ❷ Grab the latest year (2023) and select the IGBP band\n",
    "lc = (\n",
    "    ee.ImageCollection(\"MODIS/061/MCD12Q1\")\n",
    "    .filterDate(\"2023-01-01\", \"2023-12-31\")\n",
    "    .first()\n",
    "    .select(\"LC_Type1\")\n",
    "    .clip(aoi)\n",
    ")\n",
    "\n",
    "# ❸ Export to local GeoTIFF\n",
    "geemap.ee_export_image(\n",
    "    lc,\n",
    "    filename=\"mcd12q1_2023_igbp.tif\",\n",
    "    scale=500,  # metres\n",
    "    region=aoi,\n",
    "    file_per_band=False,\n",
    ")\n"
   ]
  }
 ],
 "metadata": {
  "kernelspec": {
   "display_name": "Geo",
   "language": "python",
   "name": "python3"
  },
  "language_info": {
   "codemirror_mode": {
    "name": "ipython",
    "version": 3
   },
   "file_extension": ".py",
   "mimetype": "text/x-python",
   "name": "python",
   "nbconvert_exporter": "python",
   "pygments_lexer": "ipython3",
   "version": "3.12.10"
  }
 },
 "nbformat": 4,
 "nbformat_minor": 5
}
